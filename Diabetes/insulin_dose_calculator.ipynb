{
 "cells": [
  {
   "cell_type": "code",
   "execution_count": null,
   "metadata": {},
   "outputs": [],
   "source": [
    "import streamlit as st"
   ]
  },
  {
   "cell_type": "code",
   "execution_count": null,
   "metadata": {},
   "outputs": [],
   "source": [
    "blood_sugar_reading_result = st.number_input(\"Blood Sugar Reading Result\")\n",
    "target_blood_sugar = st.number_input(\"Target Blood Sugar\")\n",
    "individual_insulin_sensitivity = st.number_input(\"Individual Insulin Sensitivity\")\n",
    "carbs_per_serving = st.number_input(\"Carbs per Serving\")\n",
    "number_of_servings = st.number_input(\"Number of Servings\")\n",
    "carbs_to_units_ratio = st.number_input(\"Carbs to Units Ratio\")"
   ]
  },
  {
   "cell_type": "code",
   "execution_count": 4,
   "metadata": {},
   "outputs": [],
   "source": [
    "def units_to_pump(blood_sugar_reading_result, target_blood_sugar, individual_insulin_sensitivity, carbs_per_serving, number_of_servings, carbs_to_units_ratio):\n",
    "    units_to_pump = (blood_sugar_reading_result - target_blood_sugar) / individual_insulin_sensitivity + (carbs_per_serving * number_of_servings / carbs_to_units_ratio)\n",
    "    return units_to_pump"
   ]
  },
  {
   "cell_type": "code",
   "execution_count": 5,
   "metadata": {},
   "outputs": [
    {
     "data": {
      "text/plain": [
       "8.31"
      ]
     },
     "execution_count": 5,
     "metadata": {},
     "output_type": "execute_result"
    }
   ],
   "source": [
    "units_to_pump(193, 140, 50, 29, 2.5, 10)"
   ]
  },
  {
   "cell_type": "code",
   "execution_count": null,
   "metadata": {},
   "outputs": [],
   "source": [
    "st.write(\"\"\"\n",
    "# Insulin Dose Calculator\n",
    "\"\"\")"
   ]
  }
 ],
 "metadata": {
  "kernelspec": {
   "display_name": "Python 3",
   "language": "python",
   "name": "python3"
  },
  "language_info": {
   "codemirror_mode": {
    "name": "ipython",
    "version": 3
   },
   "file_extension": ".py",
   "mimetype": "text/x-python",
   "name": "python",
   "nbconvert_exporter": "python",
   "pygments_lexer": "ipython3",
   "version": "3.12.7"
  }
 },
 "nbformat": 4,
 "nbformat_minor": 2
}
